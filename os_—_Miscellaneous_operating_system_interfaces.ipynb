{
  "nbformat": 4,
  "nbformat_minor": 0,
  "metadata": {
    "colab": {
      "name": "os — Miscellaneous operating system interfaces.ipynb",
      "provenance": [],
      "authorship_tag": "ABX9TyO9oz7eZLBl3/PstmAMXub3",
      "include_colab_link": true
    },
    "kernelspec": {
      "name": "python3",
      "display_name": "Python 3"
    },
    "language_info": {
      "name": "python"
    }
  },
  "cells": [
    {
      "cell_type": "markdown",
      "metadata": {
        "id": "view-in-github",
        "colab_type": "text"
      },
      "source": [
        "<a href=\"https://colab.research.google.com/github/F-Neres/F-Neres/blob/main/os_%E2%80%94_Miscellaneous_operating_system_interfaces.ipynb\" target=\"_parent\"><img src=\"https://colab.research.google.com/assets/colab-badge.svg\" alt=\"Open In Colab\"/></a>"
      ]
    },
    {
      "cell_type": "markdown",
      "source": [
        "#os — Miscellaneous operating system interfaces"
      ],
      "metadata": {
        "id": "oyBjN1wrk34L"
      }
    },
    {
      "cell_type": "markdown",
      "source": [
        "[Documentação oficial](https://docs.python.org/3/library/os.html)\n",
        "\n",
        "[OS Module in Python with Examples - Geeks for Geeks](https://www.geeksforgeeks.org/os-module-python-examples/)\n",
        "\n",
        "[30 Useful Methods from python OS Module - Analytics Vidhya](https://www.analyticsvidhya.com/blog/2021/05/30-useful-methods-from-python-os-module/)\n",
        "\n",
        "[Python Tutorial: OS Module - YouTube](https://www.youtube.com/watch?v=tJxcKyFMTGo)\n",
        "\n",
        "[Still Using the OS Module in Python? This Alternative is Remarkably Better - Towards Data Science](https://towardsdatascience.com/still-using-the-os-module-in-python-this-alternative-is-remarkably-better-7d728ce22fb7)"
      ],
      "metadata": {
        "id": "4JOH0Xuok-3C"
      }
    },
    {
      "cell_type": "code",
      "source": [
        ""
      ],
      "metadata": {
        "id": "I0cqrDUDmXRw"
      },
      "execution_count": null,
      "outputs": []
    }
  ]
}